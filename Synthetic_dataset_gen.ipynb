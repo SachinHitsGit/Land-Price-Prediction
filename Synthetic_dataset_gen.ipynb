{
 "cells": [
  {
   "cell_type": "code",
   "execution_count": 3,
   "id": "798f3568",
   "metadata": {},
   "outputs": [],
   "source": [
    "import pandas as pd\n",
    "import numpy as np\n",
    "\n",
    "# Set random seed for reproducibility\n",
    "np.random.seed(42)\n",
    "\n",
    "# Parameters\n",
    "n_samples = 1000\n",
    "locations = ['Downtown', 'Suburb', 'Urban', 'Rural']\n",
    "\n",
    "# Generate synthetic data\n",
    "data = {\n",
    "    'Land_ID': range(1, n_samples + 1),\n",
    "    'Location': np.random.choice(locations, n_samples, p=[0.3, 0.3, 0.2, 0.2]),\n",
    "    'Area_SqFt': np.random.randint(2000, 15000, n_samples),\n",
    "    'Road_Width_Ft': np.random.randint(10, 50, n_samples),\n",
    "    'Distance_to_Landmark_Km': np.random.uniform(0.5, 15, n_samples)\n",
    "}\n",
    "\n",
    "# Create DataFrame\n",
    "df = pd.DataFrame(data)\n",
    "\n",
    "# Generate Price_per_SqFt_USD with extra noise\n",
    "location_multipliers = {'Downtown': 2.0, 'Urban': 1.5, 'Suburb': 1.0, 'Rural': 0.5}\n",
    "df['Price_per_SqFt_USD'] = (\n",
    "    100 * df['Location'].map(location_multipliers) +\n",
    "    2 * (df['Road_Width_Ft'] - 10) -\n",
    "    5 * df['Distance_to_Landmark_Km'] +\n",
    "    np.random.normal(0, 20, n_samples)  # Increased noise (±$20)\n",
    ")\n",
    "\n",
    "# Ensure prices are positive and rounded\n",
    "df['Price_per_SqFt_USD'] = df['Price_per_SqFt_USD'].clip(lower=30).round(2)\n",
    "\n",
    "# Introduce missing values (7% missing)\n",
    "missing_rate = 0.07\n",
    "for col in ['Road_Width_Ft', 'Distance_to_Landmark_Km', 'Price_per_SqFt_USD']:\n",
    "    mask = np.random.rand(n_samples) < missing_rate\n",
    "    df.loc[mask, col] = np.nan\n",
    "\n",
    "# Save to CSV\n",
    "df.to_csv('realistic_land_price_dataset.csv', index=False)\n"
   ]
  }
 ],
 "metadata": {
  "kernelspec": {
   "display_name": "Python 3",
   "language": "python",
   "name": "python3"
  },
  "language_info": {
   "codemirror_mode": {
    "name": "ipython",
    "version": 3
   },
   "file_extension": ".py",
   "mimetype": "text/x-python",
   "name": "python",
   "nbconvert_exporter": "python",
   "pygments_lexer": "ipython3",
   "version": "3.12.3"
  }
 },
 "nbformat": 4,
 "nbformat_minor": 5
}
